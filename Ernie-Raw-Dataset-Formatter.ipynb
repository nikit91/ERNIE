{
 "cells": [
  {
   "cell_type": "code",
   "execution_count": 1,
   "metadata": {},
   "outputs": [],
   "source": [
    "# some_file.py\n",
    "import sys\n",
    "# insert at 1, 0 is the script path (or '' in REPL)\n",
    "sys.path.insert(1, '/home/nikit/Workplace/Thesis/ernie/codebase/pretrain_data')\n",
    "import tokenization\n",
    "import os\n",
    "from multiprocessing import Pool\n",
    "from nltk.tokenize import sent_tokenize\n",
    "import math"
   ]
  },
  {
   "cell_type": "code",
   "execution_count": 3,
   "metadata": {},
   "outputs": [
    {
     "name": "stdout",
     "output_type": "stream",
     "text": [
      "{'entityUri': 'http://dbpedia.org/resource/Sybase', 'entityId': 194735, 'surfaceForm': 'Sybase', 'startPos': 748, 'endPos': 754}\n"
     ]
    }
   ],
   "source": [
    "import json\n",
    "abstract = {}\n",
    "with open('/home/nikit/Workplace/Thesis/dbpabs_ernie_raw/json/abstracts_en0.ttl.json') as json_file:\n",
    "    data = json.load(json_file)\n",
    "    abstract = data[3]\n",
    "    print(data[3]['mentions'][0])"
   ]
  },
  {
   "cell_type": "code",
   "execution_count": 5,
   "metadata": {},
   "outputs": [],
   "source": [
    "vocab_file = \"ernie_base/vocab.txt\"\n",
    "do_lower_case = True\n",
    "tokenizer = tokenization.FullTokenizer(\n",
    "      vocab_file=vocab_file, do_lower_case=do_lower_case)"
   ]
  },
  {
   "cell_type": "code",
   "execution_count": 84,
   "metadata": {},
   "outputs": [
    {
     "name": "stdout",
     "output_type": "stream",
     "text": [
      "[{'entityUri': 'http://dbpedia.org/resource/Ingres_%28database%29', 'entityId': '', 'surfaceForm': 'Ingres', 'startPos': 0, 'endPos': 6}, {'entityUri': 'http://dbpedia.org/resource/Open-source_software', 'entityId': 'Open-source_software', 'surfaceForm': 'open-source', 'startPos': 68, 'endPos': 79}, {'entityUri': 'http://dbpedia.org/resource/SQL', 'entityId': 'SQL', 'surfaceForm': 'SQL', 'startPos': 80, 'endPos': 83}, {'entityUri': 'http://dbpedia.org/resource/Relational_database_management_system', 'entityId': 'Relational_database_management_system', 'surfaceForm': 'relational database management system', 'startPos': 84, 'endPos': 121}, {'entityUri': 'http://dbpedia.org/resource/Ingres_%28database%29', 'entityId': '', 'surfaceForm': 'Ingres', 'startPos': 188, 'endPos': 194}, {'entityUri': 'http://dbpedia.org/resource/Open-source_software', 'entityId': 'Open-source_software', 'surfaceForm': 'open source', 'startPos': 213, 'endPos': 224}, {'entityUri': 'http://dbpedia.org/resource/Open-source_software', 'entityId': 'Open-source_software', 'surfaceForm': 'open', 'startPos': 213, 'endPos': 217}, {'entityUri': 'http://dbpedia.org/resource/Actian', 'entityId': 'Actian', 'surfaceForm': 'Actian', 'startPos': 275, 'endPos': 281}, {'entityUri': 'http://dbpedia.org/resource/Ingres_%28database%29', 'entityId': '', 'surfaceForm': 'Ingres', 'startPos': 322, 'endPos': 328}, {'entityUri': 'http://dbpedia.org/resource/Executable_program', 'entityId': 'Executable_program', 'surfaceForm': 'binaries', 'startPos': 349, 'endPos': 357}, {'entityUri': 'http://dbpedia.org/resource/Ingres_%28database%29', 'entityId': '', 'surfaceForm': 'Ingres', 'startPos': 422, 'endPos': 428}, {'entityUri': 'http://dbpedia.org/resource/University_of_California%2C_Berkeley', 'entityId': '_Berkeley', 'surfaceForm': 'University of California, Berkeley', 'startPos': 464, 'endPos': 498}, {'entityUri': 'http://dbpedia.org/resource/BSD_license', 'entityId': 'BSD_license', 'surfaceForm': 'BSD license', 'startPos': 664, 'endPos': 675}, {'entityUri': 'http://dbpedia.org/resource/Ingres_%28database%29', 'entityId': '', 'surfaceForm': 'Ingres', 'startPos': 677, 'endPos': 683}, {'entityUri': 'http://dbpedia.org/resource/Sybase', 'entityId': 'Sybase', 'surfaceForm': 'Sybase', 'startPos': 748, 'endPos': 754}, {'entityUri': 'http://dbpedia.org/resource/Microsoft_SQL_Server', 'entityId': 'Microsoft_SQL_Server', 'surfaceForm': 'Microsoft SQL Server', 'startPos': 756, 'endPos': 776}, {'entityUri': 'http://dbpedia.org/resource/NonStop_SQL', 'entityId': 'NonStop_SQL', 'surfaceForm': 'NonStop SQL', 'startPos': 778, 'endPos': 789}, {'entityUri': 'http://dbpedia.org/resource/Ingres_%28database%29', 'entityId': '', 'surfaceForm': 'Ingres', 'startPos': 829, 'endPos': 835}, {'entityUri': 'http://dbpedia.org/resource/PostgreSQL', 'entityId': 'PostgreSQL', 'surfaceForm': 'PostgreSQL', 'startPos': 899, 'endPos': 909}, {'entityUri': 'http://dbpedia.org/resource/Ingres_%28database%29', 'entityId': '', 'surfaceForm': 'Ingres', 'startPos': 911, 'endPos': 917}, {'entityUri': 'http://dbpedia.org/resource/Atomicity%2C_consistency%2C_isolation%2C_durability', 'entityId': '_durability', 'surfaceForm': 'ACID', 'startPos': 921, 'endPos': 925}, {'entityUri': 'http://dbpedia.org/resource/Ingres_%28database%29', 'entityId': '', 'surfaceForm': 'Ingres', 'startPos': 995, 'endPos': 1001}, {'entityUri': 'http://dbpedia.org/resource/Lisog', 'entityId': 'Lisog', 'surfaceForm': 'Lisog', 'startPos': 1017, 'endPos': 1022}, {'entityUri': 'http://dbpedia.org/resource/Open-source_software', 'entityId': 'Open-source_software', 'surfaceForm': 'open', 'startPos': 1023, 'endPos': 1027}]\n"
     ]
    }
   ],
   "source": [
    "mentions = []\n",
    "mentions.extend(abstract['mentions'])\n",
    "# sorting based on start position of mention (occurence)\n",
    "mentions = sorted(mentions, key=lambda k: k['startPos']) \n",
    "print(mentions)"
   ]
  },
  {
   "cell_type": "code",
   "execution_count": 6,
   "metadata": {},
   "outputs": [
    {
     "name": "stdout",
     "output_type": "stream",
     "text": [
      "[['ing', '##res'], ['open', '-', 'source'], ['sql'], ['relational', 'database', 'management', 'system'], ['ing', '##res'], ['open', 'source'], ['open'], ['act', '##ian'], ['ing', '##res'], ['bin', '##aries'], ['ing', '##res'], ['university', 'of', 'california', ',', 'berkeley'], ['bs', '##d', 'license'], ['ing', '##res'], ['sy', '##base'], ['microsoft', 'sql', 'server'], ['nonstop', 'sql'], ['ing', '##res'], ['post', '##gre', '##s', '##q', '##l'], ['ing', '##res'], ['acid'], ['ing', '##res'], ['li', '##so', '##g'], ['open']]\n",
      "['http://dbpedia.org/resource/Ingres_%28database%29', 'http://dbpedia.org/resource/Open-source_software', 'http://dbpedia.org/resource/SQL', 'http://dbpedia.org/resource/Relational_database_management_system', 'http://dbpedia.org/resource/Ingres_%28database%29', 'http://dbpedia.org/resource/Open-source_software', 'http://dbpedia.org/resource/Open-source_software', 'http://dbpedia.org/resource/Actian', 'http://dbpedia.org/resource/Ingres_%28database%29', 'http://dbpedia.org/resource/Executable_program', 'http://dbpedia.org/resource/Ingres_%28database%29', 'http://dbpedia.org/resource/University_of_California%2C_Berkeley', 'http://dbpedia.org/resource/BSD_license', 'http://dbpedia.org/resource/Ingres_%28database%29', 'http://dbpedia.org/resource/Sybase', 'http://dbpedia.org/resource/Microsoft_SQL_Server', 'http://dbpedia.org/resource/NonStop_SQL', 'http://dbpedia.org/resource/Ingres_%28database%29', 'http://dbpedia.org/resource/PostgreSQL', 'http://dbpedia.org/resource/Ingres_%28database%29', 'http://dbpedia.org/resource/Atomicity%2C_consistency%2C_isolation%2C_durability', 'http://dbpedia.org/resource/Ingres_%28database%29', 'http://dbpedia.org/resource/Lisog', 'http://dbpedia.org/resource/Open-source_software']\n"
     ]
    }
   ],
   "source": [
    "# For each mention create an array of tokens and entityUrl\n",
    "mentions = abstract['mentions']\n",
    "# sorting based on start position of mention (occurence)\n",
    "mentions = sorted(mentions, key=lambda k: k['startPos']) \n",
    "mentionTokensArr = []\n",
    "mentionUriArr = []\n",
    "for i in range(len(mentions)):\n",
    "    mention = mentions[i]\n",
    "    mentionTokens = tokenizer.tokenize(mention['surfaceForm'])\n",
    "    mentionTokensArr.append(mentionTokens)\n",
    "    mentionUriArr.append(mention['entityUri'])\n",
    "print(mentionTokensArr)\n",
    "print(mentionUriArr)"
   ]
  },
  {
   "cell_type": "code",
   "execution_count": 7,
   "metadata": {},
   "outputs": [
    {
     "name": "stdout",
     "output_type": "stream",
     "text": [
      "Ingres Database ( /ɪŋˈɡrɛs/ ing-GRESS) is a commercially supported, open-source SQL relational database management system intended to support large commercial and government applications.\n"
     ]
    }
   ],
   "source": [
    "#for each abstract\n",
    "# print(tokenizer.tokenize(abstract['content']))\n",
    "sentences = sent_tokenize(abstract['content'])\n",
    "print(sentences[0])\n",
    "#for each sentence\n",
    "#map entities to tokens\n",
    "#map vocab token ids to tokens\n",
    "#write line"
   ]
  },
  {
   "cell_type": "code",
   "execution_count": 8,
   "metadata": {},
   "outputs": [
    {
     "name": "stdout",
     "output_type": "stream",
     "text": [
      "['ing', '##res', 'database', '(', '/', 'ɪ', '##ŋ', '##ˈ', '##ɡ', '##r', '##ɛ', '##s', '/', 'ing', '-', 'gr', '##ess', ')', 'is', 'a', 'commercially', 'supported', ',', 'open', '-', 'source', 'sql', 'relational', 'database', 'management', 'system', 'intended', 'to', 'support', 'large', 'commercial', 'and', 'government', 'applications', '.', 'ing', '##res', 'database', 'is', 'fully', 'open', 'source', 'with', 'a', 'global', 'community', 'of', 'contributors', '.', 'however', ',', 'act', '##ian', 'corporation', 'controls', 'the', 'development', 'of', 'ing', '##res', 'and', 'makes', 'certified', 'bin', '##aries', 'available', 'for', 'download', ',', 'as', 'well', 'as', 'providing', 'worldwide', 'support', '.', 'ing', '##res', 'began', 'as', 'a', 'research', 'project', 'at', 'the', 'university', 'of', 'california', ',', 'berkeley', ',', 'starting', 'in', 'the', 'early', '1970s', 'and', 'ending', 'in', '1985', '.', 'the', 'original', 'code', ',', 'like', 'that', 'from', 'other', 'projects', 'at', 'berkeley', ',', 'was', 'available', 'at', 'minimal', 'cost', 'under', 'a', 'version', 'of', 'the', 'bs', '##d', 'license', '.', 'ing', '##res', 'spawned', 'a', 'number', 'of', 'commercial', 'database', 'applications', ',', 'including', 'sy', '##base', ',', 'microsoft', 'sql', 'server', ',', 'nonstop', 'sql', 'and', 'a', 'number', 'of', 'others', '.', 'post', '##gre', '##s', '(', 'post', 'ing', '##res', ')', ',', 'a', 'project', 'which', 'started', 'in', 'the', 'mid', '-', '1980s', ',', 'later', 'evolved', 'into', 'post', '##gre', '##s', '##q', '##l', '.', 'ing', '##res', 'is', 'acid', 'compatible', 'and', 'is', 'fully', 'transaction', '##al', '(', 'including', 'all', 'dd', '##l', 'statements', ')', '.', 'ing', '##res', 'is', 'part', 'of', 'the', 'li', '##so', '##g', 'open', '-', 'source', 'stack', 'initiative', '.']\n"
     ]
    }
   ],
   "source": [
    "print(tokenizer.tokenize(abstract['content']))"
   ]
  },
  {
   "cell_type": "code",
   "execution_count": 9,
   "metadata": {},
   "outputs": [
    {
     "name": "stdout",
     "output_type": "stream",
     "text": [
      "['Sybase', 'BSD license', 'Ingres', 'open-source', 'open', 'NonStop SQL', 'ACID', 'Ingres', 'relational database management system', 'Ingres', 'PostgreSQL', 'Lisog', 'Ingres', 'Microsoft SQL Server', 'Actian', 'Ingres', 'SQL', 'open source', 'University of California, Berkeley', 'open', 'Ingres', 'Ingres', 'binaries', 'Ingres']\n",
      "['bs', '##d', 'license']\n"
     ]
    }
   ],
   "source": [
    "anchor_segs = []\n",
    "for x in abstract['mentions']:\n",
    "    anchor_segs.append(x['surfaceForm'])\n",
    "print(anchor_segs)\n",
    "print(tokenizer.tokenize(anchor_segs[1]))\n"
   ]
  },
  {
   "cell_type": "code",
   "execution_count": 10,
   "metadata": {},
   "outputs": [
    {
     "name": "stdout",
     "output_type": "stream",
     "text": [
      "Ingres Database ( /ɪŋˈɡrɛs/ ing-GRESS) is a commercially supported, open-source SQL relational database management system intended to support large commercial and government applications.\n",
      "Ingres Database is fully open source with a global community of contributors.\n",
      "However, Actian Corporation controls the development of Ingres and makes certified binaries available for download, as well as providing worldwide support.\n",
      "Ingres began as a research project at the University of California, Berkeley, starting in the early 1970s and ending in 1985.\n",
      "The original code, like that from other projects at Berkeley, was available at minimal cost under a version of the BSD license.\n",
      "Ingres spawned a number of commercial database applications, including Sybase, Microsoft SQL Server, NonStop SQL and a number of others.\n",
      "Postgres (Post Ingres), a project which started in the mid-1980s, later evolved into PostgreSQL.\n",
      "Ingres is ACID compatible and is fully transactional (including all DDL statements).Ingres is part of the Lisog open-source stack initiative.\n"
     ]
    }
   ],
   "source": [
    "text_out = [len(sentences)]\n",
    "ent_out = [len(sentences)]\n",
    "for sent in sentences:\n",
    "    print(sent)"
   ]
  },
  {
   "cell_type": "code",
   "execution_count": 13,
   "metadata": {},
   "outputs": [
    {
     "name": "stdout",
     "output_type": "stream",
     "text": [
      "[['ing', '##res'], ['open', '-', 'source'], ['sql'], ['relational', 'database', 'management', 'system'], ['ing', '##res'], ['open', 'source'], ['open'], ['act', '##ian'], ['ing', '##res'], ['bin', '##aries'], ['ing', '##res'], ['university', 'of', 'california', ',', 'berkeley'], ['bs', '##d', 'license'], ['ing', '##res'], ['sy', '##base'], ['microsoft', 'sql', 'server'], ['nonstop', 'sql'], ['ing', '##res'], ['post', '##gre', '##s', '##q', '##l'], ['ing', '##res'], ['acid'], ['ing', '##res'], ['li', '##so', '##g'], ['open']]\n",
      "[{'entityUri': 'http://dbpedia.org/resource/Ingres_%28database%29', 'entityId': 831625, 'surfaceForm': 'Ingres', 'startPos': 0, 'endPos': 6}, {'entityUri': 'http://dbpedia.org/resource/Open-source_software', 'entityId': 37735, 'surfaceForm': 'open-source', 'startPos': 68, 'endPos': 79}, {'entityUri': 'http://dbpedia.org/resource/SQL', 'entityId': 2996, 'surfaceForm': 'SQL', 'startPos': 80, 'endPos': 83}, {'entityUri': 'http://dbpedia.org/resource/Relational_database_management_system', 'entityId': 28723, 'surfaceForm': 'relational database management system', 'startPos': 84, 'endPos': 121}, {'entityUri': 'http://dbpedia.org/resource/Ingres_%28database%29', 'entityId': 831625, 'surfaceForm': 'Ingres', 'startPos': 188, 'endPos': 194}, {'entityUri': 'http://dbpedia.org/resource/Open-source_software', 'entityId': 37735, 'surfaceForm': 'open source', 'startPos': 213, 'endPos': 224}, {'entityUri': 'http://dbpedia.org/resource/Open-source_software', 'entityId': 37735, 'surfaceForm': 'open', 'startPos': 213, 'endPos': 217}, {'entityUri': 'http://dbpedia.org/resource/Actian', 'entityId': 978371, 'surfaceForm': 'Actian', 'startPos': 275, 'endPos': 281}, {'entityUri': 'http://dbpedia.org/resource/Ingres_%28database%29', 'entityId': 831625, 'surfaceForm': 'Ingres', 'startPos': 322, 'endPos': 328}, {'entityUri': 'http://dbpedia.org/resource/Executable_program', 'entityId': 2140684, 'surfaceForm': 'binaries', 'startPos': 349, 'endPos': 357}, {'entityUri': 'http://dbpedia.org/resource/Ingres_%28database%29', 'entityId': 831625, 'surfaceForm': 'Ingres', 'startPos': 422, 'endPos': 428}, {'entityUri': 'http://dbpedia.org/resource/University_of_California%2C_Berkeley', 'entityId': 4657, 'surfaceForm': 'University of California, Berkeley', 'startPos': 464, 'endPos': 498}, {'entityUri': 'http://dbpedia.org/resource/BSD_license', 'entityId': 77716, 'surfaceForm': 'BSD license', 'startPos': 664, 'endPos': 675}, {'entityUri': 'http://dbpedia.org/resource/Ingres_%28database%29', 'entityId': 831625, 'surfaceForm': 'Ingres', 'startPos': 677, 'endPos': 683}, {'entityUri': 'http://dbpedia.org/resource/Sybase', 'entityId': 194735, 'surfaceForm': 'Sybase', 'startPos': 748, 'endPos': 754}, {'entityUri': 'http://dbpedia.org/resource/Microsoft_SQL_Server', 'entityId': 3006, 'surfaceForm': 'Microsoft SQL Server', 'startPos': 756, 'endPos': 776}, {'entityUri': 'http://dbpedia.org/resource/NonStop_SQL', 'entityId': 760398, 'surfaceForm': 'NonStop SQL', 'startPos': 778, 'endPos': 789}, {'entityUri': 'http://dbpedia.org/resource/Ingres_%28database%29', 'entityId': 831625, 'surfaceForm': 'Ingres', 'startPos': 829, 'endPos': 835}, {'entityUri': 'http://dbpedia.org/resource/PostgreSQL', 'entityId': 3005, 'surfaceForm': 'PostgreSQL', 'startPos': 899, 'endPos': 909}, {'entityUri': 'http://dbpedia.org/resource/Ingres_%28database%29', 'entityId': 831625, 'surfaceForm': 'Ingres', 'startPos': 911, 'endPos': 917}, {'entityUri': 'http://dbpedia.org/resource/Atomicity%2C_consistency%2C_isolation%2C_durability', 'entityId': 2641047, 'surfaceForm': 'ACID', 'startPos': 921, 'endPos': 925}, {'entityUri': 'http://dbpedia.org/resource/Ingres_%28database%29', 'entityId': 831625, 'surfaceForm': 'Ingres', 'startPos': 995, 'endPos': 1001}, {'entityUri': 'http://dbpedia.org/resource/Lisog', 'entityId': 1135542, 'surfaceForm': 'Lisog', 'startPos': 1017, 'endPos': 1022}, {'entityUri': 'http://dbpedia.org/resource/Open-source_software', 'entityId': 37735, 'surfaceForm': 'open', 'startPos': 1023, 'endPos': 1027}]\n",
      "Sentence: Ingres Database ( /ɪŋˈɡrɛs/ ing-GRESS) is a commercially supported, open-source SQL relational database management system intended to support large commercial and government applications.\n",
      "Total number of entities found: 4\n",
      "\n",
      "Tokens: ['ing', '##res', 'database', '(', '/', 'ɪ', '##ŋ', '##ˈ', '##ɡ', '##r', '##ɛ', '##s', '/', 'ing', '-', 'gr', '##ess', ')', 'is', 'a', 'commercially', 'supported', ',', 'open', '-', 'source', 'sql', 'relational', 'database', 'management', 'system', 'intended', 'to', 'support', 'large', 'commercial', 'and', 'government', 'applications', '.']\n",
      "\n",
      "Text Out: [13749, 6072, 7809, 1006, 1013, 1119, 29673, 29715, 29682, 2099, 29275, 2015, 1013, 13749, 1011, 24665, 7971, 1007, 2003, 1037, 11088, 3569, 1010, 2330, 1011, 3120, 29296, 28771, 7809, 2968, 2291, 3832, 2000, 2490, 2312, 3293, 1998, 2231, 5097, 1012]\n",
      "\n",
      "Ent Out: ['http://dbpedia.org/resource/Ingres_%28database%29', 'http://dbpedia.org/resource/Ingres_%28database%29', '#UNK#', '#UNK#', '#UNK#', '#UNK#', '#UNK#', '#UNK#', '#UNK#', '#UNK#', '#UNK#', '#UNK#', '#UNK#', '#UNK#', '#UNK#', '#UNK#', '#UNK#', '#UNK#', '#UNK#', '#UNK#', '#UNK#', '#UNK#', '#UNK#', 'http://dbpedia.org/resource/Open-source_software', 'http://dbpedia.org/resource/Open-source_software', 'http://dbpedia.org/resource/Open-source_software', 'http://dbpedia.org/resource/SQL', 'http://dbpedia.org/resource/Relational_database_management_system', 'http://dbpedia.org/resource/Relational_database_management_system', 'http://dbpedia.org/resource/Relational_database_management_system', 'http://dbpedia.org/resource/Relational_database_management_system', '#UNK#', '#UNK#', '#UNK#', '#UNK#', '#UNK#', '#UNK#', '#UNK#', '#UNK#', '#UNK#']\n",
      "\n",
      "\n",
      "\n",
      "\n",
      "\n",
      "Sentence: Ingres Database is fully open source with a global community of contributors.\n",
      "Total number of entities found: 3\n",
      "\n",
      "Tokens: ['ing', '##res', 'database', 'is', 'fully', 'open', 'source', 'with', 'a', 'global', 'community', 'of', 'contributors', '.']\n",
      "\n",
      "Text Out: [13749, 6072, 7809, 2003, 3929, 2330, 3120, 2330, 3120, 2007, 1037, 3795, 2451, 1997, 16884, 1012]\n",
      "\n",
      "Ent Out: ['http://dbpedia.org/resource/Ingres_%28database%29', 'http://dbpedia.org/resource/Ingres_%28database%29', '#UNK#', '#UNK#', '#UNK#', 'http://dbpedia.org/resource/Open-source_software', 'http://dbpedia.org/resource/Open-source_software', 'http://dbpedia.org/resource/Open-source_software', '#UNK#', '#UNK#', '#UNK#', '#UNK#', '#UNK#', '#UNK#', '#UNK#', '#UNK#']\n",
      "\n",
      "\n",
      "\n",
      "\n",
      "\n",
      "Sentence: However, Actian Corporation controls the development of Ingres and makes certified binaries available for download, as well as providing worldwide support.\n",
      "Total number of entities found: 3\n",
      "\n",
      "Tokens: ['however', ',', 'act', '##ian', 'corporation', 'controls', 'the', 'development', 'of', 'ing', '##res', 'and', 'makes', 'certified', 'bin', '##aries', 'available', 'for', 'download', ',', 'as', 'well', 'as', 'providing', 'worldwide', 'support', '.']\n",
      "\n",
      "Text Out: [2174, 1010, 2552, 2937, 3840, 7711, 1996, 2458, 1997, 13749, 6072, 1998, 3084, 7378, 8026, 12086, 2800, 2005, 8816, 1010, 2004, 2092, 2004, 4346, 4969, 2490, 1012]\n",
      "\n",
      "Ent Out: ['#UNK#', '#UNK#', 'http://dbpedia.org/resource/Actian', 'http://dbpedia.org/resource/Actian', '#UNK#', '#UNK#', '#UNK#', '#UNK#', '#UNK#', 'http://dbpedia.org/resource/Ingres_%28database%29', 'http://dbpedia.org/resource/Ingres_%28database%29', '#UNK#', '#UNK#', '#UNK#', 'http://dbpedia.org/resource/Executable_program', 'http://dbpedia.org/resource/Executable_program', '#UNK#', '#UNK#', '#UNK#', '#UNK#', '#UNK#', '#UNK#', '#UNK#', '#UNK#', '#UNK#', '#UNK#', '#UNK#']\n",
      "\n",
      "\n",
      "\n",
      "\n",
      "\n",
      "Sentence: Ingres began as a research project at the University of California, Berkeley, starting in the early 1970s and ending in 1985.\n",
      "Total number of entities found: 2\n",
      "\n",
      "Tokens: ['ing', '##res', 'began', 'as', 'a', 'research', 'project', 'at', 'the', 'university', 'of', 'california', ',', 'berkeley', ',', 'starting', 'in', 'the', 'early', '1970s', 'and', 'ending', 'in', '1985', '.']\n",
      "\n",
      "Text Out: [13749, 6072, 2211, 2004, 1037, 2470, 2622, 2012, 1996, 2118, 1997, 2662, 1010, 8256, 1010, 3225, 1999, 1996, 2220, 3955, 1998, 4566, 1999, 3106, 1012]\n",
      "\n",
      "Ent Out: ['http://dbpedia.org/resource/Ingres_%28database%29', 'http://dbpedia.org/resource/Ingres_%28database%29', '#UNK#', '#UNK#', '#UNK#', '#UNK#', '#UNK#', '#UNK#', '#UNK#', 'http://dbpedia.org/resource/University_of_California%2C_Berkeley', 'http://dbpedia.org/resource/University_of_California%2C_Berkeley', 'http://dbpedia.org/resource/University_of_California%2C_Berkeley', 'http://dbpedia.org/resource/University_of_California%2C_Berkeley', 'http://dbpedia.org/resource/University_of_California%2C_Berkeley', '#UNK#', '#UNK#', '#UNK#', '#UNK#', '#UNK#', '#UNK#', '#UNK#', '#UNK#', '#UNK#', '#UNK#', '#UNK#']\n",
      "\n",
      "\n",
      "\n",
      "\n",
      "\n",
      "Sentence: The original code, like that from other projects at Berkeley, was available at minimal cost under a version of the BSD license.\n",
      "Total number of entities found: 1\n",
      "\n",
      "Tokens: ['the', 'original', 'code', ',', 'like', 'that', 'from', 'other', 'projects', 'at', 'berkeley', ',', 'was', 'available', 'at', 'minimal', 'cost', 'under', 'a', 'version', 'of', 'the', 'bs', '##d', 'license', '.']\n",
      "\n",
      "Text Out: [1996, 2434, 3642, 1010, 2066, 2008, 2013, 2060, 3934, 2012, 8256, 1010, 2001, 2800, 2012, 10124, 3465, 2104, 1037, 2544, 1997, 1996, 18667, 2094, 6105, 1012]\n",
      "\n",
      "Ent Out: ['#UNK#', '#UNK#', '#UNK#', '#UNK#', '#UNK#', '#UNK#', '#UNK#', '#UNK#', '#UNK#', '#UNK#', '#UNK#', '#UNK#', '#UNK#', '#UNK#', '#UNK#', '#UNK#', '#UNK#', '#UNK#', '#UNK#', '#UNK#', '#UNK#', '#UNK#', 'http://dbpedia.org/resource/BSD_license', 'http://dbpedia.org/resource/BSD_license', 'http://dbpedia.org/resource/BSD_license', '#UNK#']\n",
      "\n",
      "\n",
      "\n",
      "\n",
      "\n",
      "Sentence: Ingres spawned a number of commercial database applications, including Sybase, Microsoft SQL Server, NonStop SQL and a number of others.\n",
      "Total number of entities found: 4\n",
      "\n",
      "Tokens: ['ing', '##res', 'spawned', 'a', 'number', 'of', 'commercial', 'database', 'applications', ',', 'including', 'sy', '##base', ',', 'microsoft', 'sql', 'server', ',', 'nonstop', 'sql', 'and', 'a', 'number', 'of', 'others', '.']\n",
      "\n",
      "Text Out: [13749, 6072, 18379, 1037, 2193, 1997, 3293, 7809, 5097, 1010, 2164, 25353, 15058, 1010, 7513, 29296, 8241, 1010, 25493, 29296, 1998, 1037, 2193, 1997, 2500, 1012]\n",
      "\n",
      "Ent Out: ['http://dbpedia.org/resource/Ingres_%28database%29', 'http://dbpedia.org/resource/Ingres_%28database%29', '#UNK#', '#UNK#', '#UNK#', '#UNK#', '#UNK#', '#UNK#', '#UNK#', '#UNK#', '#UNK#', 'http://dbpedia.org/resource/Sybase', 'http://dbpedia.org/resource/Sybase', '#UNK#', 'http://dbpedia.org/resource/Microsoft_SQL_Server', 'http://dbpedia.org/resource/Microsoft_SQL_Server', 'http://dbpedia.org/resource/Microsoft_SQL_Server', '#UNK#', 'http://dbpedia.org/resource/NonStop_SQL', 'http://dbpedia.org/resource/NonStop_SQL', '#UNK#', '#UNK#', '#UNK#', '#UNK#', '#UNK#', '#UNK#']\n",
      "\n",
      "\n",
      "\n",
      "\n",
      "\n",
      "Sentence: Postgres (Post Ingres), a project which started in the mid-1980s, later evolved into PostgreSQL.\n",
      "Total number of entities found: 2\n",
      "\n",
      "Tokens: ['post', '##gre', '##s', '(', 'post', 'ing', '##res', ')', ',', 'a', 'project', 'which', 'started', 'in', 'the', 'mid', '-', '1980s', ',', 'later', 'evolved', 'into', 'post', '##gre', '##s', '##q', '##l', '.']\n",
      "\n",
      "Text Out: [2695, 17603, 2015, 1006, 2695, 13749, 6072, 1007, 1010, 1037, 2622, 2029, 2318, 1999, 1996, 3054, 1011, 3865, 1010, 2101, 7964, 2046, 2695, 17603, 2015, 4160, 2140, 1012]\n",
      "\n",
      "Ent Out: ['#UNK#', '#UNK#', '#UNK#', '#UNK#', '#UNK#', 'http://dbpedia.org/resource/Ingres_%28database%29', 'http://dbpedia.org/resource/Ingres_%28database%29', '#UNK#', '#UNK#', '#UNK#', '#UNK#', '#UNK#', '#UNK#', '#UNK#', '#UNK#', '#UNK#', '#UNK#', '#UNK#', '#UNK#', '#UNK#', '#UNK#', '#UNK#', 'http://dbpedia.org/resource/PostgreSQL', 'http://dbpedia.org/resource/PostgreSQL', 'http://dbpedia.org/resource/PostgreSQL', 'http://dbpedia.org/resource/PostgreSQL', 'http://dbpedia.org/resource/PostgreSQL', '#UNK#']\n",
      "\n",
      "\n",
      "\n",
      "\n",
      "\n",
      "Sentence: Ingres is ACID compatible and is fully transactional (including all DDL statements).Ingres is part of the Lisog open-source stack initiative.\n",
      "Total number of entities found: 5\n",
      "\n",
      "Tokens: ['ing', '##res', 'is', 'acid', 'compatible', 'and', 'is', 'fully', 'transaction', '##al', '(', 'including', 'all', 'dd', '##l', 'statements', ')', '.', 'ing', '##res', 'is', 'part', 'of', 'the', 'li', '##so', '##g', 'open', '-', 'source', 'stack', 'initiative', '.']\n",
      "\n",
      "Text Out: [13749, 6072, 2003, 5648, 11892, 1998, 2003, 3929, 12598, 2389, 1006, 2164, 2035, 20315, 2140, 8635, 1007, 1012, 13749, 6072, 2003, 2112, 1997, 1996, 5622, 6499, 2290, 2330, 1011, 3120, 9991, 6349, 1012]\n",
      "\n",
      "Ent Out: ['http://dbpedia.org/resource/Ingres_%28database%29', 'http://dbpedia.org/resource/Ingres_%28database%29', '#UNK#', 'http://dbpedia.org/resource/Atomicity%2C_consistency%2C_isolation%2C_durability', '#UNK#', '#UNK#', '#UNK#', '#UNK#', '#UNK#', '#UNK#', '#UNK#', '#UNK#', '#UNK#', '#UNK#', '#UNK#', '#UNK#', '#UNK#', '#UNK#', 'http://dbpedia.org/resource/Ingres_%28database%29', 'http://dbpedia.org/resource/Ingres_%28database%29', '#UNK#', '#UNK#', '#UNK#', '#UNK#', 'http://dbpedia.org/resource/Lisog', 'http://dbpedia.org/resource/Lisog', 'http://dbpedia.org/resource/Lisog', 'http://dbpedia.org/resource/Open-source_software', '#UNK#', '#UNK#', '#UNK#', '#UNK#', '#UNK#']\n",
      "\n",
      "\n",
      "\n",
      "\n",
      "\n"
     ]
    }
   ],
   "source": [
    "sentences = sent_tokenize(abstract['content'])\n",
    "# For each mention create an array of tokens and entityUrl\n",
    "mentions = []\n",
    "mentions.extend(abstract['mentions'])\n",
    "# sorting based on start position of mention (occurence)\n",
    "mentions = sorted(mentions, key=lambda k: k['startPos']) \n",
    "mentionTokensArr = []\n",
    "mentionDetArr = []\n",
    "for i in range(len(mentions)):\n",
    "    mention = mentions[i]\n",
    "    mentionTokens = tokenizer.tokenize(mention['surfaceForm'])\n",
    "    mentionTokensArr.append(mentionTokens)\n",
    "    mentionDetArr.append(mention)\n",
    "print(mentionTokensArr)\n",
    "print(mentionDetArr)\n",
    "text_out = [len(sentences)]\n",
    "ent_out = [len(sentences)]\n",
    "\n",
    "new_text_out = []\n",
    "new_ent_out = []\n",
    "\n",
    "for sent in sentences:\n",
    "    #print(len(mentionTokensArr))\n",
    "    tokens = tokenizer.tokenize(sent)\n",
    "    new_text_out = []\n",
    "    new_ent_out = []\n",
    "    i = 0\n",
    "    totEntFound = 0\n",
    "    while i < len(tokens):\n",
    "        tok = tokens[i]\n",
    "        \n",
    "        # fetch the tokens for first entity in queue\n",
    "        entityToCheck = None\n",
    "        if len(mentionTokensArr) > 0 :\n",
    "            entityToCheck = mentionTokensArr[0]\n",
    "        # check if first entity token matches the current sentence token\n",
    "        if entityToCheck != None and tok == entityToCheck[0] :\n",
    "            totEntFound = totEntFound + 1\n",
    "            tokArrLen = len(entityToCheck)\n",
    "            curMention = mentionDetArr[0]\n",
    "            entityUri = curMention['entityUri']\n",
    "            #print(\"entity found: \"+entityUri+\" at index: \"+str(i))\n",
    "            # ( Append new_ent_out with entity uri )x size of entity tokens\n",
    "            j = 0\n",
    "            while j < tokArrLen :\n",
    "                new_ent_out.append(entityUri)\n",
    "                j = j + 1\n",
    "            # ( Append new_text_out with token ids of next n (size of entity tokens) tokens\n",
    "            new_text_out.extend(tokenizer.convert_tokens_to_ids(entityToCheck))\n",
    "            # increment i by n\n",
    "            nextMention = None\n",
    "            if len(mentionDetArr) > 1:\n",
    "                nextMention = mentionDetArr[1]\n",
    "            if (nextMention == None) or (nextMention['startPos'] != curMention['startPos']) : \n",
    "               i = i + tokArrLen  \n",
    "            # remove first item from both queues\n",
    "            del mentionTokensArr[0]\n",
    "            del mentionDetArr[0]\n",
    "            #if(nextMention != None) :\n",
    "            #    print(\"next in line: \"+nextMention['entityUri'])\n",
    "            #print(\"jumping to index: \"+str(i))\n",
    "        else:\n",
    "            # Append new_ent_out with unk\n",
    "            new_ent_out.append(\"#UNK#\")\n",
    "            # append new text out with token id of current token\n",
    "            new_text_out.append(tokenizer.convert_tokens_to_ids([tok])[0])\n",
    "            #increment i    \n",
    "            i = i + 1\n",
    "    \n",
    "    # Keep the text with 3 or more entity annotations only\n",
    "    print(\"Sentence: \"+str(sent)) \n",
    "    print(\"Total number of entities found: \"+str(totEntFound))    \n",
    "    print(\"\\nTokens: \"+str(tokens))\n",
    "    print(\"\\nText Out: \"+str(new_text_out))\n",
    "    print(\"\\nEnt Out: \"+str(new_ent_out))\n",
    "    print(\"\\n\\n\\n\\n\")\n",
    "            "
   ]
  },
  {
   "cell_type": "code",
   "execution_count": 12,
   "metadata": {},
   "outputs": [
    {
     "name": "stdout",
     "output_type": "stream",
     "text": [
      "[]\n",
      "[]\n"
     ]
    }
   ],
   "source": [
    "print(mentionTokensArr)\n",
    "print(mentionDetArr)"
   ]
  },
  {
   "cell_type": "code",
   "execution_count": 2,
   "metadata": {},
   "outputs": [],
   "source": [
    "import numpy as np\n",
    "from sklearn.model_selection import train_test_split\n",
    "from numpy import genfromtxt"
   ]
  },
  {
   "cell_type": "code",
   "execution_count": null,
   "metadata": {},
   "outputs": [],
   "source": [
    "my_data = genfromtxt('kg_embed/entity2vec.vec', delimiter='\\t')"
   ]
  },
  {
   "cell_type": "code",
   "execution_count": null,
   "metadata": {},
   "outputs": [],
   "source": []
  }
 ],
 "metadata": {
  "kernelspec": {
   "display_name": "Python 3",
   "language": "python",
   "name": "python3"
  },
  "language_info": {
   "codemirror_mode": {
    "name": "ipython",
    "version": 3
   },
   "file_extension": ".py",
   "mimetype": "text/x-python",
   "name": "python",
   "nbconvert_exporter": "python",
   "pygments_lexer": "ipython3",
   "version": "3.8.3"
  }
 },
 "nbformat": 4,
 "nbformat_minor": 4
}
